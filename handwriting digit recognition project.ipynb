{
 "cells": [
  {
   "cell_type": "markdown",
   "id": "6ddaa891-9032-4f2d-946e-e89523205783",
   "metadata": {},
   "source": [
    "# Importing library"
   ]
  },
  {
   "cell_type": "code",
   "execution_count": 1,
   "id": "f328d75a-66d1-4408-9bd7-92732a1f9356",
   "metadata": {},
   "outputs": [],
   "source": [
    "import pandas as pd\n",
    "import numpy as np\n",
    "import matplotlib.pyplot as plt"
   ]
  },
  {
   "cell_type": "markdown",
   "id": "22d8459b-46f3-4633-8bb8-03e8643cd129",
   "metadata": {},
   "source": [
    "# Importing Data"
   ]
  },
  {
   "cell_type": "code",
   "execution_count": 2,
   "id": "79fa7002-d9d6-42af-ac6b-c7d500298f4e",
   "metadata": {},
   "outputs": [],
   "source": [
    "from sklearn.datasets import load_digits"
   ]
  },
  {
   "cell_type": "code",
   "execution_count": 3,
   "id": "0b720345-22dc-4255-842e-c5787a9c108c",
   "metadata": {},
   "outputs": [],
   "source": [
    "df=load_digits()"
   ]
  },
  {
   "cell_type": "code",
   "execution_count": 7,
   "id": "f53448b1-5ca7-4547-84bf-09fa4016c64d",
   "metadata": {},
   "outputs": [
    {
     "data": {
      "image/png": "[encoded data removed]",
      "text/plain": [
       "<Figure size 1000x300 with 4 Axes>"
      ]
     },
     "metadata": {},
     "output_type": "display_data"
    }
   ],
   "source": [
    "_, axes = plt.subplots(nrows=1, ncols=4, figsize=(10,3))\n",
    "for ax,image, label in zip(axes, df.images, df.target):\n",
    "    ax.set_axis_off()\n",
    "    ax.imshow(image, cmap=plt.cm.gray_r, interpolation=\"nearest\")\n",
    "    ax.set_title(\"Training: %i\" % label)"
   ]
  },
  {
   "cell_type": "markdown",
   "id": "6f164e1d-e6bb-45c5-957a-d6283c3ce675",
   "metadata": {},
   "source": [
    "# Data Preprocessing"
   ]
  },
  {
   "cell_type": "markdown",
   "id": "8ff4a453-88a5-4aa8-8bf6-3b4f8a276aa8",
   "metadata": {},
   "source": [
    "Flatten image"
   ]
  },
  {
   "cell_type": "code",
   "execution_count": 9,
   "id": "e84e40e8-5cb9-4cad-b2be-e2a4d4c5631d",
   "metadata": {},
   "outputs": [
    {
     "data": {
      "text/plain": [
       "(1797, 8, 8)"
      ]
     },
     "execution_count": 9,
     "metadata": {},
     "output_type": "execute_result"
    }
   ],
   "source": [
    "df.images.shape\n"
   ]
  },
  {
   "cell_type": "code",
   "execution_count": 10,
   "id": "a298964d-5eed-410c-9658-8e71998e19f4",
   "metadata": {},
   "outputs": [
    {
     "data": {
      "text/plain": [
       "array([[ 0.,  0.,  5., 13.,  9.,  1.,  0.,  0.],\n",
       "       [ 0.,  0., 13., 15., 10., 15.,  5.,  0.],\n",
       "       [ 0.,  3., 15.,  2.,  0., 11.,  8.,  0.],\n",
       "       [ 0.,  4., 12.,  0.,  0.,  8.,  8.,  0.],\n",
       "       [ 0.,  5.,  8.,  0.,  0.,  9.,  8.,  0.],\n",
       "       [ 0.,  4., 11.,  0.,  1., 12.,  7.,  0.],\n",
       "       [ 0.,  2., 14.,  5., 10., 12.,  0.,  0.],\n",
       "       [ 0.,  0.,  6., 13., 10.,  0.,  0.,  0.]])"
      ]
     },
     "execution_count": 10,
     "metadata": {},
     "output_type": "execute_result"
    }
   ],
   "source": [
    "df.images[0]"
   ]
  },
  {
   "cell_type": "code",
   "execution_count": 11,
   "id": "8f343ac1-a825-4e5b-9747-63c688f6675c",
   "metadata": {},
   "outputs": [
    {
     "data": {
      "text/plain": [
       "(8, 8)"
      ]
     },
     "execution_count": 11,
     "metadata": {},
     "output_type": "execute_result"
    }
   ],
   "source": [
    "df.images[0].shape\n"
   ]
  },
  {
   "cell_type": "code",
   "execution_count": 12,
   "id": "e56118b1-3b20-41da-a4f6-ad1496248f7a",
   "metadata": {},
   "outputs": [
    {
     "data": {
      "text/plain": [
       "1797"
      ]
     },
     "execution_count": 12,
     "metadata": {},
     "output_type": "execute_result"
    }
   ],
   "source": [
    "len(df.images)"
   ]
  },
  {
   "cell_type": "code",
   "execution_count": 13,
   "id": "f7f8141a-cbca-4a47-b718-4c7a2fa6e721",
   "metadata": {},
   "outputs": [],
   "source": [
    "n_samples= len(df.images)\n",
    "data = df.images.reshape((n_samples , -1))"
   ]
  },
  {
   "cell_type": "code",
   "execution_count": 14,
   "id": "39e0cf1e-c5c4-4346-b90d-ee017d1a67fd",
   "metadata": {},
   "outputs": [
    {
     "data": {
      "text/plain": [
       "array([ 0.,  0.,  5., 13.,  9.,  1.,  0.,  0.,  0.,  0., 13., 15., 10.,\n",
       "       15.,  5.,  0.,  0.,  3., 15.,  2.,  0., 11.,  8.,  0.,  0.,  4.,\n",
       "       12.,  0.,  0.,  8.,  8.,  0.,  0.,  5.,  8.,  0.,  0.,  9.,  8.,\n",
       "        0.,  0.,  4., 11.,  0.,  1., 12.,  7.,  0.,  0.,  2., 14.,  5.,\n",
       "       10., 12.,  0.,  0.,  0.,  0.,  6., 13., 10.,  0.,  0.,  0.])"
      ]
     },
     "execution_count": 14,
     "metadata": {},
     "output_type": "execute_result"
    }
   ],
   "source": [
    "data[0]"
   ]
  },
  {
   "cell_type": "code",
   "execution_count": 15,
   "id": "29d8c174-5f70-485c-8fce-ce51ad46420b",
   "metadata": {},
   "outputs": [
    {
     "data": {
      "text/plain": [
       "(64,)"
      ]
     },
     "execution_count": 15,
     "metadata": {},
     "output_type": "execute_result"
    }
   ],
   "source": [
    "data[0].shape"
   ]
  },
  {
   "cell_type": "code",
   "execution_count": 16,
   "id": "b4ad7c18-0c85-4280-8d51-4a8ef006fcdb",
   "metadata": {},
   "outputs": [
    {
     "data": {
      "text/plain": [
       "(1797, 64)"
      ]
     },
     "execution_count": 16,
     "metadata": {},
     "output_type": "execute_result"
    }
   ],
   "source": [
    "data.shape"
   ]
  },
  {
   "cell_type": "markdown",
   "id": "9e3ecd05-a601-46d6-9559-46fe2e8ee80f",
   "metadata": {},
   "source": [
    "# Scaling Image Data"
   ]
  },
  {
   "cell_type": "code",
   "execution_count": 17,
   "id": "447afe89-46ce-4e2d-9509-bd0f68501695",
   "metadata": {},
   "outputs": [
    {
     "data": {
      "text/plain": [
       "0.0"
      ]
     },
     "execution_count": 17,
     "metadata": {},
     "output_type": "execute_result"
    }
   ],
   "source": [
    "data.min()"
   ]
  },
  {
   "cell_type": "code",
   "execution_count": 18,
   "id": "0151da8c-0d9b-4791-ac55-0d0b85b3900a",
   "metadata": {},
   "outputs": [
    {
     "data": {
      "text/plain": [
       "16.0"
      ]
     },
     "execution_count": 18,
     "metadata": {},
     "output_type": "execute_result"
    }
   ],
   "source": [
    "data.max()"
   ]
  },
  {
   "cell_type": "code",
   "execution_count": 19,
   "id": "9196b780-76ea-4271-bfb8-2f71cabc32a9",
   "metadata": {},
   "outputs": [],
   "source": [
    "data=data/16"
   ]
  },
  {
   "cell_type": "code",
   "execution_count": 20,
   "id": "7df250dd-5e70-44d0-a406-5484862cb388",
   "metadata": {},
   "outputs": [
    {
     "data": {
      "text/plain": [
       "0.0"
      ]
     },
     "execution_count": 20,
     "metadata": {},
     "output_type": "execute_result"
    }
   ],
   "source": [
    "data.min()"
   ]
  },
  {
   "cell_type": "code",
   "execution_count": 21,
   "id": "8828c1f4-576e-4bb2-b0f4-71d68b13853a",
   "metadata": {},
   "outputs": [
    {
     "data": {
      "text/plain": [
       "1.0"
      ]
     },
     "execution_count": 21,
     "metadata": {},
     "output_type": "execute_result"
    }
   ],
   "source": [
    "data.max()"
   ]
  },
  {
   "cell_type": "code",
   "execution_count": 22,
   "id": "eac27416-ac20-4ff1-b449-b7c492c3b8ee",
   "metadata": {},
   "outputs": [
    {
     "data": {
      "text/plain": [
       "array([0.    , 0.    , 0.3125, 0.8125, 0.5625, 0.0625, 0.    , 0.    ,\n",
       "       0.    , 0.    , 0.8125, 0.9375, 0.625 , 0.9375, 0.3125, 0.    ,\n",
       "       0.    , 0.1875, 0.9375, 0.125 , 0.    , 0.6875, 0.5   , 0.    ,\n",
       "       0.    , 0.25  , 0.75  , 0.    , 0.    , 0.5   , 0.5   , 0.    ,\n",
       "       0.    , 0.3125, 0.5   , 0.    , 0.    , 0.5625, 0.5   , 0.    ,\n",
       "       0.    , 0.25  , 0.6875, 0.    , 0.0625, 0.75  , 0.4375, 0.    ,\n",
       "       0.    , 0.125 , 0.875 , 0.3125, 0.625 , 0.75  , 0.    , 0.    ,\n",
       "       0.    , 0.    , 0.375 , 0.8125, 0.625 , 0.    , 0.    , 0.    ])"
      ]
     },
     "execution_count": 22,
     "metadata": {},
     "output_type": "execute_result"
    }
   ],
   "source": [
    "data[0]"
   ]
  },
  {
   "cell_type": "markdown",
   "id": "b715f63d-ea37-472e-a3de-54a61bc54ea3",
   "metadata": {},
   "source": [
    "# Train Test Split data\n"
   ]
  },
  {
   "cell_type": "code",
   "execution_count": 24,
   "id": "4c1e2970-1535-43f8-b17b-4e592cc935c5",
   "metadata": {},
   "outputs": [],
   "source": [
    "from sklearn.model_selection import train_test_split\n"
   ]
  },
  {
   "cell_type": "code",
   "execution_count": 25,
   "id": "99ca71cd-8fd3-4008-beb8-cd469fdb6de1",
   "metadata": {},
   "outputs": [],
   "source": [
    "x_train, x_test, y_train, y_test = train_test_split(data, df.target, test_size=0.3)"
   ]
  },
  {
   "cell_type": "code",
   "execution_count": 26,
   "id": "a3a279ac-3302-48a4-97c0-dd72f9571e2c",
   "metadata": {},
   "outputs": [
    {
     "data": {
      "text/plain": [
       "((1257, 64), (540, 64), (1257,), (540,))"
      ]
     },
     "execution_count": 26,
     "metadata": {},
     "output_type": "execute_result"
    }
   ],
   "source": [
    "x_train.shape, x_test.shape, y_train.shape, y_test.shape"
   ]
  },
  {
   "cell_type": "markdown",
   "id": "4d79a8d4-1afd-4b3f-be2f-b046bcd0101a",
   "metadata": {},
   "source": [
    "# Random Forest Model"
   ]
  },
  {
   "cell_type": "code",
   "execution_count": 27,
   "id": "9c2c776f-c628-48e9-8771-33a5bbc1399f",
   "metadata": {},
   "outputs": [],
   "source": [
    "from sklearn.ensemble import RandomForestClassifier"
   ]
  },
  {
   "cell_type": "code",
   "execution_count": 28,
   "id": "05afd8c4-f166-4f8a-9e20-c22d9b0c1143",
   "metadata": {},
   "outputs": [],
   "source": [
    "rf= RandomForestClassifier()"
   ]
  },
  {
   "cell_type": "code",
   "execution_count": 29,
   "id": "f2d4ea9a-6299-4183-912b-f6ac67924c16",
   "metadata": {},
   "outputs": [
    {
     "data": {
      "text/html": [
       "<style>#sk-container-id-1 {color: black;background-color: white;}#sk-container-id-1 pre{padding: 0;}#sk-container-id-1 div.sk-toggleable {background-color: white;}#sk-container-id-1 label.sk-toggleable__label {cursor: pointer;display: block;width: 100%;margin-bottom: 0;padding: 0.3em;box-sizing: border-box;text-align: center;}#sk-container-id-1 label.sk-toggleable__label-arrow:before {content: \"▸\";float: left;margin-right: 0.25em;color: #696969;}#sk-container-id-1 label.sk-toggleable__label-arrow:hover:before {color: black;}#sk-container-id-1 div.sk-estimator:hover label.sk-toggleable__label-arrow:before {color: black;}#sk-container-id-1 div.sk-toggleable__content {max-height: 0;max-width: 0;overflow: hidden;text-align: left;background-color: #f0f8ff;}#sk-container-id-1 div.sk-toggleable__content pre {margin: 0.2em;color: black;border-radius: 0.25em;background-color: #f0f8ff;}#sk-container-id-1 input.sk-toggleable__control:checked~div.sk-toggleable__content {max-height: 200px;max-width: 100%;overflow: auto;}#sk-container-id-1 input.sk-toggleable__control:checked~label.sk-toggleable__label-arrow:before {content: \"▾\";}#sk-container-id-1 div.sk-estimator input.sk-toggleable__control:checked~label.sk-toggleable__label {background-color: #d4ebff;}#sk-container-id-1 div.sk-label input.sk-toggleable__control:checked~label.sk-toggleable__label {background-color: #d4ebff;}#sk-container-id-1 input.sk-hidden--visually {border: 0;clip: rect(1px 1px 1px 1px);clip: rect(1px, 1px, 1px, 1px);height: 1px;margin: -1px;overflow: hidden;padding: 0;position: absolute;width: 1px;}#sk-container-id-1 div.sk-estimator {font-family: monospace;background-color: #f0f8ff;border: 1px dotted black;border-radius: 0.25em;box-sizing: border-box;margin-bottom: 0.5em;}#sk-container-id-1 div.sk-estimator:hover {background-color: #d4ebff;}#sk-container-id-1 div.sk-parallel-item::after {content: \"\";width: 100%;border-bottom: 1px solid gray;flex-grow: 1;}#sk-container-id-1 div.sk-label:hover label.sk-toggleable__label {background-color: #d4ebff;}#sk-container-id-1 div.sk-serial::before {content: \"\";position: absolute;border-left: 1px solid gray;box-sizing: border-box;top: 0;bottom: 0;left: 50%;z-index: 0;}#sk-container-id-1 div.sk-serial {display: flex;flex-direction: column;align-items: center;background-color: white;padding-right: 0.2em;padding-left: 0.2em;position: relative;}#sk-container-id-1 div.sk-item {position: relative;z-index: 1;}#sk-container-id-1 div.sk-parallel {display: flex;align-items: stretch;justify-content: center;background-color: white;position: relative;}#sk-container-id-1 div.sk-item::before, #sk-container-id-1 div.sk-parallel-item::before {content: \"\";position: absolute;border-left: 1px solid gray;box-sizing: border-box;top: 0;bottom: 0;left: 50%;z-index: -1;}#sk-container-id-1 div.sk-parallel-item {display: flex;flex-direction: column;z-index: 1;position: relative;background-color: white;}#sk-container-id-1 div.sk-parallel-item:first-child::after {align-self: flex-end;width: 50%;}#sk-container-id-1 div.sk-parallel-item:last-child::after {align-self: flex-start;width: 50%;}#sk-container-id-1 div.sk-parallel-item:only-child::after {width: 0;}#sk-container-id-1 div.sk-dashed-wrapped {border: 1px dashed gray;margin: 0 0.4em 0.5em 0.4em;box-sizing: border-box;padding-bottom: 0.4em;background-color: white;}#sk-container-id-1 div.sk-label label {font-family: monospace;font-weight: bold;display: inline-block;line-height: 1.2em;}#sk-container-id-1 div.sk-label-container {text-align: center;}#sk-container-id-1 div.sk-container {/* jupyter's `normalize.less` sets `[hidden] { display: none; }` but bootstrap.min.css set `[hidden] { display: none !important; }` so we also need the `!important` here to be able to override the default hidden behavior on the sphinx rendered scikit-learn.org. See: https://github.com/scikit-learn/scikit-learn/issues/21755 */display: inline-block !important;position: relative;}#sk-container-id-1 div.sk-text-repr-fallback {display: none;}</style><div id=\"sk-container-id-1\" class=\"sk-top-container\"><div class=\"sk-text-repr-fallback\"><pre>RandomForestClassifier()</pre><b>In a Jupyter environment, please rerun this cell to show the HTML representation or trust the notebook. <br />On GitHub, the HTML representation is unable to render, please try loading this page with nbviewer.org.</b></div><div class=\"sk-container\" hidden><div class=\"sk-item\"><div class=\"sk-estimator sk-toggleable\"><input class=\"sk-toggleable__control sk-hidden--visually\" id=\"sk-estimator-id-1\" type=\"checkbox\" checked><label for=\"sk-estimator-id-1\" class=\"sk-toggleable__label sk-toggleable__label-arrow\">RandomForestClassifier</label><div class=\"sk-toggleable__content\"><pre>RandomForestClassifier()</pre></div></div></div></div></div>"
      ],
      "text/plain": [
       "RandomForestClassifier()"
      ]
     },
     "execution_count": 29,
     "metadata": {},
     "output_type": "execute_result"
    }
   ],
   "source": [
    "rf.fit(x_train, y_train)\n"
   ]
  },
  {
   "cell_type": "markdown",
   "id": "89f879f0-ac77-4040-a34f-03257f22875f",
   "metadata": {},
   "source": [
    "# Predicting the test data\n"
   ]
  },
  {
   "cell_type": "code",
   "execution_count": 30,
   "id": "8ae9779d-0567-42c6-9114-acb09e3df6fc",
   "metadata": {},
   "outputs": [],
   "source": [
    "y_pred= rf.predict(x_test)"
   ]
  },
  {
   "cell_type": "code",
   "execution_count": 31,
   "id": "955050f7-7ef0-425b-91f6-a14d33656625",
   "metadata": {},
   "outputs": [
    {
     "data": {
      "text/plain": [
       "array([9, 8, 8, 6, 2, 4, 7, 6, 5, 5, 0, 9, 6, 7, 2, 1, 6, 7, 0, 1, 5, 2,\n",
       "       4, 9, 4, 6, 2, 9, 7, 8, 8, 5, 4, 2, 3, 3, 1, 1, 6, 1, 4, 5, 4, 4,\n",
       "       2, 4, 7, 0, 6, 4, 3, 0, 1, 8, 6, 8, 3, 0, 2, 2, 6, 2, 9, 5, 9, 4,\n",
       "       5, 3, 7, 4, 5, 8, 4, 1, 5, 7, 9, 0, 4, 2, 7, 9, 2, 8, 2, 1, 8, 8,\n",
       "       8, 5, 9, 3, 5, 4, 9, 0, 3, 3, 5, 3, 8, 0, 8, 7, 3, 7, 9, 2, 0, 3,\n",
       "       1, 5, 7, 2, 0, 2, 1, 3, 3, 9, 6, 3, 7, 0, 4, 2, 1, 9, 6, 8, 5, 8,\n",
       "       2, 6, 6, 8, 2, 9, 0, 1, 9, 3, 4, 4, 2, 6, 9, 7, 5, 4, 5, 0, 7, 2,\n",
       "       8, 7, 5, 9, 1, 5, 5, 5, 8, 5, 0, 3, 8, 4, 2, 8, 5, 7, 6, 3, 6, 0,\n",
       "       1, 7, 9, 7, 2, 8, 1, 7, 9, 9, 2, 2, 4, 1, 4, 0, 1, 0, 1, 1, 9, 0,\n",
       "       2, 1, 3, 0, 6, 4, 8, 1, 7, 6, 0, 0, 6, 7, 5, 7, 7, 2, 3, 6, 5, 2,\n",
       "       7, 8, 6, 0, 4, 5, 0, 1, 7, 5, 7, 5, 4, 1, 9, 1, 0, 5, 2, 7, 9, 3,\n",
       "       1, 5, 0, 3, 7, 1, 3, 0, 0, 9, 3, 1, 0, 8, 7, 3, 9, 7, 5, 0, 6, 0,\n",
       "       1, 5, 9, 2, 1, 1, 4, 2, 0, 3, 6, 1, 4, 4, 0, 3, 4, 6, 2, 7, 7, 9,\n",
       "       7, 0, 0, 8, 0, 1, 1, 0, 8, 6, 5, 9, 4, 3, 3, 6, 4, 2, 4, 5, 8, 8,\n",
       "       0, 3, 9, 4, 2, 9, 1, 1, 7, 6, 8, 0, 0, 3, 4, 3, 9, 9, 5, 7, 7, 3,\n",
       "       3, 1, 9, 4, 6, 5, 8, 1, 0, 3, 0, 9, 7, 2, 6, 9, 0, 7, 4, 4, 9, 9,\n",
       "       9, 3, 9, 2, 6, 1, 1, 8, 8, 5, 3, 9, 2, 7, 8, 0, 4, 0, 8, 7, 8, 6,\n",
       "       4, 4, 8, 2, 2, 6, 2, 3, 4, 2, 1, 1, 0, 1, 3, 5, 5, 2, 3, 3, 6, 2,\n",
       "       2, 5, 7, 1, 5, 8, 2, 0, 9, 2, 6, 1, 4, 2, 8, 1, 1, 6, 7, 6, 0, 5,\n",
       "       3, 0, 1, 0, 8, 7, 7, 2, 1, 2, 6, 2, 5, 5, 1, 9, 3, 7, 0, 0, 9, 5,\n",
       "       5, 3, 6, 4, 6, 1, 0, 3, 6, 8, 9, 7, 0, 8, 9, 6, 8, 9, 0, 8, 4, 2,\n",
       "       2, 0, 5, 8, 6, 6, 4, 6, 3, 5, 3, 3, 0, 7, 2, 6, 7, 5, 2, 9, 9, 0,\n",
       "       6, 6, 4, 4, 4, 7, 3, 8, 2, 1, 1, 3, 3, 4, 3, 6, 9, 4, 2, 6, 2, 0,\n",
       "       9, 4, 2, 2, 1, 3, 8, 8, 1, 5, 2, 0, 5, 9, 0, 1, 8, 0, 4, 1, 2, 9,\n",
       "       2, 3, 4, 6, 0, 9, 5, 9, 3, 7, 1, 3])"
      ]
     },
     "execution_count": 31,
     "metadata": {},
     "output_type": "execute_result"
    }
   ],
   "source": [
    "y_pred"
   ]
  },
  {
   "cell_type": "markdown",
   "id": "fb3ee3b6-f97f-477d-9b1b-0b76e616835c",
   "metadata": {},
   "source": [
    "# Model Accuracy"
   ]
  },
  {
   "cell_type": "code",
   "execution_count": 32,
   "id": "2e01bab4-7973-407c-8ebd-a63c8aee7c91",
   "metadata": {},
   "outputs": [],
   "source": [
    "from sklearn.metrics import confusion_matrix, classification_report"
   ]
  },
  {
   "cell_type": "code",
   "execution_count": 33,
   "id": "c1dcaf49-3051-49f3-abfc-55e295010a9d",
   "metadata": {},
   "outputs": [
    {
     "data": {
      "text/plain": [
       "array([[62,  0,  0,  0,  0,  0,  0,  0,  0,  0],\n",
       "       [ 0, 55,  0,  0,  0,  0,  0,  0,  0,  0],\n",
       "       [ 0,  0, 61,  0,  0,  0,  0,  0,  0,  0],\n",
       "       [ 0,  1,  0, 53,  0,  0,  0,  1,  0,  0],\n",
       "       [ 0,  0,  0,  0, 51,  0,  0,  0,  0,  0],\n",
       "       [ 0,  0,  0,  0,  1, 49,  0,  0,  1,  1],\n",
       "       [ 0,  0,  0,  0,  0,  1, 50,  0,  1,  0],\n",
       "       [ 0,  0,  0,  0,  0,  0,  0, 47,  0,  1],\n",
       "       [ 0,  1,  0,  0,  0,  0,  0,  0, 44,  0],\n",
       "       [ 0,  0,  0,  2,  0,  1,  0,  2,  2, 52]], dtype=int64)"
      ]
     },
     "execution_count": 33,
     "metadata": {},
     "output_type": "execute_result"
    }
   ],
   "source": [
    "confusion_matrix(y_test, y_pred)"
   ]
  },
  {
   "cell_type": "code",
   "execution_count": 35,
   "id": "dc8c17a5-c0b1-4e6d-80e3-c1d7ac063775",
   "metadata": {},
   "outputs": [
    {
     "name": "stdout",
     "output_type": "stream",
     "text": [
      "              precision    recall  f1-score   support\n",
      "\n",
      "           0       1.00      1.00      1.00        62\n",
      "           1       0.96      1.00      0.98        55\n",
      "           2       1.00      1.00      1.00        61\n",
      "           3       0.96      0.96      0.96        55\n",
      "           4       0.98      1.00      0.99        51\n",
      "           5       0.96      0.94      0.95        52\n",
      "           6       1.00      0.96      0.98        52\n",
      "           7       0.94      0.98      0.96        48\n",
      "           8       0.92      0.98      0.95        45\n",
      "           9       0.96      0.88      0.92        59\n",
      "\n",
      "    accuracy                           0.97       540\n",
      "   macro avg       0.97      0.97      0.97       540\n",
      "weighted avg       0.97      0.97      0.97       540\n",
      "\n"
     ]
    }
   ],
   "source": [
    "print(classification_report(y_test , y_pred))"
   ]
  },
  {
   "cell_type": "code",
   "execution_count": null,
   "id": "7191ffb4-94d5-4602-b133-971791c8ef3f",
   "metadata": {},
   "outputs": [],
   "source": []
  }
 ],
 "metadata": {
  "kernelspec": {
   "display_name": "Python 3 (ipykernel)",
   "language": "python",
   "name": "python3"
  },
  "language_info": {
   "codemirror_mode": {
    "name": "ipython",
    "version": 3
   },
   "file_extension": ".py",
   "mimetype": "text/x-python",
   "name": "python",
   "nbconvert_exporter": "python",
   "pygments_lexer": "ipython3",
   "version": "3.11.7"
  }
 },
 "nbformat": 4,
 "nbformat_minor": 5
}
